{
 "cells": [
  {
   "cell_type": "code",
   "execution_count": 25,
   "id": "6e42c00c-9fc3-44e6-bd9d-9b9bd031a873",
   "metadata": {
    "tags": []
   },
   "outputs": [
    {
     "name": "stdout",
     "output_type": "stream",
     "text": [
      "Note: you may need to restart the kernel to use updated packages.\n"
     ]
    }
   ],
   "source": [
    "pip install -q --user graphistry pandas"
   ]
  },
  {
   "cell_type": "code",
   "execution_count": 26,
   "id": "194d3323-11ac-49e8-895c-cc74d56f8254",
   "metadata": {
    "tags": []
   },
   "outputs": [
    {
     "name": "stdout",
     "output_type": "stream",
     "text": [
      "Requirement already satisfied: openpyxl in c:\\users\\vero_\\anaconda3\\lib\\site-packages (3.0.7)\n",
      "Requirement already satisfied: et-xmlfile in c:\\users\\vero_\\anaconda3\\lib\\site-packages (from openpyxl) (1.0.1)\n"
     ]
    }
   ],
   "source": [
    "# Sometimes also need to install a new system Excel parser and pass in as `graphistry.nodexl(..., engine='openpyxl')\n",
    "!pip install openpyxl"
   ]
  },
  {
   "cell_type": "code",
   "execution_count": 27,
   "id": "2924a67f-a007-4275-b987-acfc45b28aed",
   "metadata": {},
   "outputs": [
    {
     "data": {
      "text/plain": [
       "'0.28.7'"
      ]
     },
     "execution_count": 27,
     "metadata": {},
     "output_type": "execute_result"
    }
   ],
   "source": [
    "import pandas as pd\n",
    "import graphistry\n",
    "graphistry.__version__"
   ]
  },
  {
   "cell_type": "code",
   "execution_count": 28,
   "id": "7549c932-687e-49a3-812c-42c193b21ae0",
   "metadata": {
    "tags": []
   },
   "outputs": [],
   "source": [
    "# To specify Graphistry account & server, use:\n",
    "graphistry.register(api=3, username='veruka', password='veruka18271827', protocol='https', server='hub.graphistry.com')"
   ]
  },
  {
   "cell_type": "code",
   "execution_count": 29,
   "id": "f1cf20e3-3730-4a07-8c4d-b17362b6a818",
   "metadata": {
    "tags": []
   },
   "outputs": [],
   "source": [
    "#g = NodeXLGraphistry().xls(xls, 'twitter')\n",
    "g = graphistry.nodexl('http://nodexlgraphgallery.org/Pages/Workbook.ashx?graphID=285611')"
   ]
  },
  {
   "cell_type": "code",
   "execution_count": 30,
   "id": "802ad575-1741-43e9-bdba-ccb2d23fa1d6",
   "metadata": {},
   "outputs": [
    {
     "name": "stdout",
     "output_type": "stream",
     "text": [
      "213 nodes, 573 edges\n"
     ]
    },
    {
     "data": {
      "text/html": [
       "<div>\n",
       "<style scoped>\n",
       "    .dataframe tbody tr th:only-of-type {\n",
       "        vertical-align: middle;\n",
       "    }\n",
       "\n",
       "    .dataframe tbody tr th {\n",
       "        vertical-align: top;\n",
       "    }\n",
       "\n",
       "    .dataframe thead th {\n",
       "        text-align: right;\n",
       "    }\n",
       "</style>\n",
       "<table border=\"1\" class=\"dataframe\">\n",
       "  <thead>\n",
       "    <tr style=\"text-align: right;\">\n",
       "      <th></th>\n",
       "      <th>Vertex</th>\n",
       "      <th>Color</th>\n",
       "      <th>Shape</th>\n",
       "      <th>Size</th>\n",
       "      <th>Opacity</th>\n",
       "      <th>Image File</th>\n",
       "      <th>Visibility</th>\n",
       "      <th>Label</th>\n",
       "      <th>Label Fill Color</th>\n",
       "      <th>Label Position</th>\n",
       "      <th>...</th>\n",
       "      <th>Domains in Tweet by Count</th>\n",
       "      <th>Domains in Tweet by Salience</th>\n",
       "      <th>Hashtags in Tweet by Count</th>\n",
       "      <th>Hashtags in Tweet by Salience</th>\n",
       "      <th>Top Words in Tweet by Count</th>\n",
       "      <th>Top Words in Tweet by Salience</th>\n",
       "      <th>Top Word Pairs in Tweet by Count</th>\n",
       "      <th>Top Word Pairs in Tweet by Salience</th>\n",
       "      <th>Color2</th>\n",
       "      <th>Custom Menu Item</th>\n",
       "    </tr>\n",
       "  </thead>\n",
       "  <tbody>\n",
       "    <tr>\n",
       "      <th>46</th>\n",
       "      <td>step_up_one</td>\n",
       "      <td>NaN</td>\n",
       "      <td>Image</td>\n",
       "      <td>106.49163</td>\n",
       "      <td>NaN</td>\n",
       "      <td>http://pbs.twimg.com/profile_images/1310891640...</td>\n",
       "      <td>NaN</td>\n",
       "      <td>step_up_one</td>\n",
       "      <td>NaN</td>\n",
       "      <td>Bottom Center</td>\n",
       "      <td>...</td>\n",
       "      <td>NaN</td>\n",
       "      <td>NaN</td>\n",
       "      <td>NaN</td>\n",
       "      <td>NaN</td>\n",
       "      <td>NaN</td>\n",
       "      <td>NaN</td>\n",
       "      <td>NaN</td>\n",
       "      <td>NaN</td>\n",
       "      <td>3</td>\n",
       "      <td>&lt;a href=\"https://twitter.com/step_up_one\" targ...</td>\n",
       "    </tr>\n",
       "    <tr>\n",
       "      <th>202</th>\n",
       "      <td>nicolasbchb</td>\n",
       "      <td>NaN</td>\n",
       "      <td>Image</td>\n",
       "      <td>100</td>\n",
       "      <td>NaN</td>\n",
       "      <td>http://pbs.twimg.com/profile_images/1563831099...</td>\n",
       "      <td>NaN</td>\n",
       "      <td>nicolasbchb</td>\n",
       "      <td>NaN</td>\n",
       "      <td>Nowhere</td>\n",
       "      <td>...</td>\n",
       "      <td>NaN</td>\n",
       "      <td>NaN</td>\n",
       "      <td>NaN</td>\n",
       "      <td>NaN</td>\n",
       "      <td>authors reached grandjeanmartin congratulation...</td>\n",
       "      <td>authors reached grandjeanmartin congratulation...</td>\n",
       "      <td>grandjeanmartin,gephi  paper,reached  mathieub...</td>\n",
       "      <td>grandjeanmartin,gephi  paper,reached  mathieub...</td>\n",
       "      <td>5</td>\n",
       "      <td>&lt;a href=\"https://twitter.com/nicolasbchb\" targ...</td>\n",
       "    </tr>\n",
       "  </tbody>\n",
       "</table>\n",
       "<p>2 rows × 72 columns</p>\n",
       "</div>"
      ],
      "text/plain": [
       "          Vertex Color  Shape       Size Opacity  \\\n",
       "46   step_up_one   NaN  Image  106.49163     NaN   \n",
       "202  nicolasbchb   NaN  Image        100     NaN   \n",
       "\n",
       "                                            Image File Visibility  \\\n",
       "46   http://pbs.twimg.com/profile_images/1310891640...        NaN   \n",
       "202  http://pbs.twimg.com/profile_images/1563831099...        NaN   \n",
       "\n",
       "           Label Label Fill Color Label Position  ...  \\\n",
       "46   step_up_one              NaN  Bottom Center  ...   \n",
       "202  nicolasbchb              NaN        Nowhere  ...   \n",
       "\n",
       "    Domains in Tweet by Count Domains in Tweet by Salience  \\\n",
       "46                        NaN                          NaN   \n",
       "202                       NaN                          NaN   \n",
       "\n",
       "    Hashtags in Tweet by Count Hashtags in Tweet by Salience  \\\n",
       "46                         NaN                           NaN   \n",
       "202                        NaN                           NaN   \n",
       "\n",
       "                           Top Words in Tweet by Count  \\\n",
       "46                                                 NaN   \n",
       "202  authors reached grandjeanmartin congratulation...   \n",
       "\n",
       "                        Top Words in Tweet by Salience  \\\n",
       "46                                                 NaN   \n",
       "202  authors reached grandjeanmartin congratulation...   \n",
       "\n",
       "                      Top Word Pairs in Tweet by Count  \\\n",
       "46                                                 NaN   \n",
       "202  grandjeanmartin,gephi  paper,reached  mathieub...   \n",
       "\n",
       "                   Top Word Pairs in Tweet by Salience Color2  \\\n",
       "46                                                 NaN      3   \n",
       "202  grandjeanmartin,gephi  paper,reached  mathieub...      5   \n",
       "\n",
       "                                      Custom Menu Item  \n",
       "46   <a href=\"https://twitter.com/step_up_one\" targ...  \n",
       "202  <a href=\"https://twitter.com/nicolasbchb\" targ...  \n",
       "\n",
       "[2 rows x 72 columns]"
      ]
     },
     "execution_count": 30,
     "metadata": {},
     "output_type": "execute_result"
    }
   ],
   "source": [
    "print('%s nodes, %s edges' % (len(g._nodes), len(g._edges)))\n",
    "g._nodes.sample(2)"
   ]
  },
  {
   "cell_type": "code",
   "execution_count": 31,
   "id": "50bdb23a-e384-44d0-81f3-cdf7b45ff69c",
   "metadata": {
    "tags": []
   },
   "outputs": [
    {
     "data": {
      "text/html": [
       "\n",
       "            <iframe id=\"477ba97f-c70c-4d67-961d-3a5bbf54868b\" src=\"https://hub.graphistry.com/graph/graph.html?dataset=fc27e65a030c4dc78ab9687e245b2446&type=arrow&viztoken=69c70457-87f8-429c-b6b1-dada3d10a268&usertag=20d33110-pygraphistry-0.28.7&splashAfter=1701923613&info=true&play=0\"\n",
       "                    allowfullscreen=\"true\" webkitallowfullscreen=\"true\" mozallowfullscreen=\"true\"\n",
       "                    oallowfullscreen=\"true\" msallowfullscreen=\"true\"\n",
       "                    style=\"width:100%; height:500px; border: 1px solid #DDD; overflow: hidden\"\n",
       "                    \n",
       "            >\n",
       "            </iframe>\n",
       "        \n",
       "            <script>\n",
       "                try {\n",
       "                  $(\"#477ba97f-c70c-4d67-961d-3a5bbf54868b\").bind('mousewheel', function(e) { e.preventDefault(); });\n",
       "                } catch (e) { console.error('exn catching scroll', e); }\n",
       "            </script>\n",
       "        "
      ],
      "text/plain": [
       "<IPython.core.display.HTML object>"
      ]
     },
     "execution_count": 31,
     "metadata": {},
     "output_type": "execute_result"
    }
   ],
   "source": [
    "g.plot ()"
   ]
  },
  {
   "cell_type": "code",
   "execution_count": null,
   "id": "7881899b-feac-4246-b320-90590453c792",
   "metadata": {
    "collapsed": true,
    "jupyter": {
     "outputs_hidden": true
    },
    "tags": []
   },
   "outputs": [],
   "source": []
  }
 ],
 "metadata": {
  "kernelspec": {
   "display_name": "Python 3",
   "language": "python",
   "name": "python3"
  },
  "language_info": {
   "codemirror_mode": {
    "name": "ipython",
    "version": 3
   },
   "file_extension": ".py",
   "mimetype": "text/x-python",
   "name": "python",
   "nbconvert_exporter": "python",
   "pygments_lexer": "ipython3",
   "version": "3.8.8"
  }
 },
 "nbformat": 4,
 "nbformat_minor": 5
}
